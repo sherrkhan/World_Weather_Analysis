{
 "cells": [
  {
   "cell_type": "code",
   "execution_count": 37,
   "id": "1dd15bce",
   "metadata": {},
   "outputs": [],
   "source": [
    "# Import the random module.\n",
    "import random\n",
    "import pandas as pd\n",
    "import numpy as np\n",
    "import timeit"
   ]
  },
  {
   "cell_type": "code",
   "execution_count": 42,
   "id": "0d1e48ac",
   "metadata": {},
   "outputs": [
    {
     "data": {
      "text/plain": [
       "58"
      ]
     },
     "execution_count": 42,
     "metadata": {},
     "output_type": "execute_result"
    }
   ],
   "source": [
    "random.randrange(-90, 90, step=1)"
   ]
  },
  {
   "cell_type": "code",
   "execution_count": 43,
   "id": "2a843fc7",
   "metadata": {},
   "outputs": [
    {
     "data": {
      "text/plain": [
       "-30"
      ]
     },
     "execution_count": 43,
     "metadata": {},
     "output_type": "execute_result"
    }
   ],
   "source": [
    "random.randrange(-90, 90, step=3)"
   ]
  },
  {
   "cell_type": "code",
   "execution_count": 44,
   "id": "b6c4a664",
   "metadata": {},
   "outputs": [
    {
     "data": {
      "text/plain": [
       "array([ 61.38638044, -77.0380953 , -37.28941232,  48.02721283,\n",
       "       -19.42894541, -57.06964504, -36.35248676,  84.28401736,\n",
       "       -51.14202656,  39.17430939,  40.6726544 , -29.60430332,\n",
       "        -0.83948606,  32.86011637,  -7.68813109, -58.43798621,\n",
       "        18.37287433,  78.98067272, -39.86265187, -24.51492402,\n",
       "        -6.53297708,  83.88560182,   8.32914706, -76.40202106,\n",
       "       -41.65842024,  18.25980794,  -8.60579249,  89.0825856 ,\n",
       "        53.60529085,  30.04399459,  43.4903636 , -55.65811375,\n",
       "        -8.60069452,  43.91978378,  28.34804027, -54.21770771,\n",
       "        29.09760312, -69.86563116,  40.01615994,  11.51635903,\n",
       "         1.66461728, -31.39012445, -23.41922181,  -2.68458854,\n",
       "        -6.72509225,  57.69042752, -82.3512764 ,  22.33474886,\n",
       "        33.54598741,  53.97815778])"
      ]
     },
     "execution_count": 44,
     "metadata": {},
     "output_type": "execute_result"
    }
   ],
   "source": [
    "np.random.uniform(-90.000, 90.000, size=50)"
   ]
  },
  {
   "cell_type": "code",
   "execution_count": 45,
   "id": "734d307e",
   "metadata": {},
   "outputs": [
    {
     "data": {
      "text/plain": [
       "array([-86.50056823, -23.54696125, -36.93072163, ..., -88.77358108,\n",
       "       -65.75789538, -65.27196553])"
      ]
     },
     "execution_count": 45,
     "metadata": {},
     "output_type": "execute_result"
    }
   ],
   "source": [
    "np.random.uniform(-90.000, 90.000, size=1500)"
   ]
  },
  {
   "cell_type": "code",
   "execution_count": null,
   "id": "e79e68f0",
   "metadata": {},
   "outputs": [],
   "source": []
  }
 ],
 "metadata": {
  "kernelspec": {
   "display_name": "Python 3",
   "language": "python",
   "name": "python3"
  },
  "language_info": {
   "codemirror_mode": {
    "name": "ipython",
    "version": 3
   },
   "file_extension": ".py",
   "mimetype": "text/x-python",
   "name": "python",
   "nbconvert_exporter": "python",
   "pygments_lexer": "ipython3",
   "version": "3.8.8"
  }
 },
 "nbformat": 4,
 "nbformat_minor": 5
}
